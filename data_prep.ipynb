{
 "cells": [
  {
   "cell_type": "markdown",
   "id": "8a865dd4",
   "metadata": {},
   "source": [
    "One Hot Encoding (Conditions Encoding)"
   ]
  },
  {
   "cell_type": "code",
   "execution_count": null,
   "id": "51f3fc6c",
   "metadata": {},
   "outputs": [
    {
     "ename": "SyntaxError",
     "evalue": "invalid syntax (3915809326.py, line 1)",
     "output_type": "error",
     "traceback": [
      "  \u001b[36mCell\u001b[39m\u001b[36m \u001b[39m\u001b[32mIn[1]\u001b[39m\u001b[32m, line 1\u001b[39m\n\u001b[31m    \u001b[39m\u001b[31mOne Hot Encoding (Conditions Encoding)\u001b[39m\n        ^\n\u001b[31mSyntaxError\u001b[39m\u001b[31m:\u001b[39m invalid syntax\n"
     ]
    }
   ],
   "source": [
    "import pandas as pd\n",
    "\n",
    "df = pd.read_csv(\"Data_Entry.csv\")\n",
    "\n",
    "# List of diseases (multi-label)\n",
    "labels = ['Atelectasis', 'Cardiomegaly', 'Consolidation', 'Edema', 'Effusion',\n",
    "          'Emphysema', 'Fibrosis', 'Hernia', 'Infiltration', 'Mass',\n",
    "          'No Finding', 'Nodule', 'Pleural_Thickening', 'Pneumonia', 'Pneumothorax']\n",
    "\n",
    "# Convert the label string into 0/1 for each class\n",
    "for label in labels:\n",
    "    df[label] = df['Finding Labels'].apply(lambda x: 1 if label in x else 0)\n"
   ]
  },
  {
   "cell_type": "markdown",
   "id": "b1082952",
   "metadata": {},
   "source": []
  },
  {
   "cell_type": "markdown",
   "id": "9528c8ca",
   "metadata": {},
   "source": [
    "Deleting Images File Other than txt"
   ]
  },
  {
   "cell_type": "code",
   "execution_count": 1,
   "id": "f4203102",
   "metadata": {},
   "outputs": [
    {
     "name": "stdout",
     "output_type": "stream",
     "text": [
      "Deleted 35351 files from 'images' that were not in 'text_image.txt'.\n"
     ]
    }
   ],
   "source": [
    "import os\n",
    "\n",
    "# Path to the folder with all X-ray images\n",
    "images_folder = 'images'\n",
    "\n",
    "# Path to the text file containing valid image filenames\n",
    "valid_images_file = 'text_image.txt'\n",
    "\n",
    "# Read the list of valid filenames (one per line, strip any whitespace)\n",
    "with open(valid_images_file, 'r') as f:\n",
    "    valid_filenames = set(line.strip() for line in f if line.strip())\n",
    "\n",
    "# List all image files in the folder\n",
    "all_files = os.listdir(images_folder)\n",
    "\n",
    "# Loop through and delete files not in the valid list\n",
    "deleted = 0\n",
    "for filename in all_files:\n",
    "    if filename not in valid_filenames:\n",
    "        file_path = os.path.join(images_folder, filename)\n",
    "        os.remove(file_path)\n",
    "        deleted += 1\n",
    "\n",
    "print(f\"Deleted {deleted} files from '{images_folder}' that were not in '{valid_images_file}'.\")\n"
   ]
  },
  {
   "cell_type": "markdown",
   "id": "f93a9ff0",
   "metadata": {},
   "source": [
    "Balancing Dataset"
   ]
  },
  {
   "cell_type": "code",
   "execution_count": 4,
   "id": "0471d304",
   "metadata": {},
   "outputs": [],
   "source": [
    "import pandas as pd\n",
    "from sklearn.utils import resample\n",
    "\n",
    "# Load your dataset\n",
    "df = pd.read_csv(\"Data_Entry.csv\")\n",
    "\n",
    "# List of label columns\n",
    "label_cols = ['Atelectasis', 'Cardiomegaly', 'Consolidation', 'Edema', 'Effusion',\n",
    "              'Emphysema', 'Fibrosis', 'Hernia', 'Infiltration', 'Mass',\n",
    "              'No Finding', 'Nodule', 'Pleural_Thickening', 'Pneumonia', 'Pneumothorax']\n",
    "\n",
    "# Desired minimum samples per class\n",
    "target_count = 4000\n",
    "\n",
    "# Empty list to collect balanced data\n",
    "balanced_rows = []\n",
    "\n",
    "for label in label_cols:\n",
    "    # Get all rows where the label is present\n",
    "    positive_samples = df[df[label] == 1]\n",
    "\n",
    "    if len(positive_samples) >= target_count:\n",
    "        # Downsample if too many\n",
    "        sampled = resample(positive_samples, replace=False, n_samples=target_count, random_state=42)\n",
    "    else:\n",
    "        # Upsample if too few\n",
    "        sampled = resample(positive_samples, replace=True, n_samples=target_count, random_state=42)\n",
    "\n",
    "    balanced_rows.append(sampled)\n",
    "\n",
    "# Combine all upsampled data and remove duplicates\n",
    "balanced_df = pd.concat(balanced_rows)\n",
    "\n",
    "# Shuffle the dataset\n",
    "balanced_df = balanced_df.sample(frac=1, random_state=42).reset_index(drop=True)\n",
    "\n",
    "# Save the balanced dataset\n",
    "balanced_df.to_csv(\"balanced_dataset.csv\", index=False)\n"
   ]
  },
  {
   "cell_type": "code",
   "execution_count": 1,
   "id": "bf1cfc3e",
   "metadata": {},
   "outputs": [],
   "source": [
    "import pandas as pd\n",
    "\n",
    "# Load your dataset\n",
    "df = pd.read_csv(\"Data_Entry.csv\")\n",
    "\n",
    "# Label column names (one-hot encoded)\n",
    "label_cols = ['Atelectasis', 'Cardiomegaly', 'Consolidation', 'Edema', 'Effusion',\n",
    "              'Emphysema', 'Fibrosis', 'Hernia', 'Infiltration', 'Mass',\n",
    "              'No Finding', 'Nodule', 'Pleural_Thickening', 'Pneumonia', 'Pneumothorax']\n",
    "\n",
    "# Separate rows with only 'No Finding' == 1 and all other labels == 0\n",
    "only_no_finding = df[(df['No Finding'] == 1) & (df[label_cols].drop(columns=['No Finding']).sum(axis=1) == 0)]\n",
    "\n",
    "# Downsample to 10,000 samples\n",
    "no_finding_downsampled = only_no_finding.sample(n=10000, random_state=42)\n",
    "\n",
    "# Keep all other rows (with at least one label other than 'No Finding')\n",
    "others = df.drop(only_no_finding.index)\n",
    "\n",
    "# Combine and shuffle\n",
    "balanced_df = pd.concat([no_finding_downsampled, others])\n",
    "balanced_df = balanced_df.sample(frac=1, random_state=42).reset_index(drop=True)\n",
    "\n",
    "# Save the result\n",
    "balanced_df.to_csv(\"reduced_no_finding_dataset.csv\", index=False)\n"
   ]
  },
  {
   "cell_type": "code",
   "execution_count": 4,
   "id": "7bdc7a6f",
   "metadata": {},
   "outputs": [
    {
     "data": {
      "text/plain": [
       "'00028708_000.png'"
      ]
     },
     "execution_count": 4,
     "metadata": {},
     "output_type": "execute_result"
    }
   ],
   "source": [
    "balanced_df[\"Image Index\"][0]"
   ]
  },
  {
   "cell_type": "code",
   "execution_count": 1,
   "id": "da8f7f76",
   "metadata": {},
   "outputs": [
    {
     "name": "stdout",
     "output_type": "stream",
     "text": [
      "TensorFlow version: 2.19.0\n",
      "Num GPUs Available: 0\n",
      "No GPU detected. Using CPU.\n"
     ]
    }
   ],
   "source": [
    "import tensorflow as tf\n",
    "\n",
    "# Check TensorFlow version\n",
    "print(\"TensorFlow version:\", tf.__version__)\n",
    "\n",
    "# Confirm GPU availability\n",
    "gpus = tf.config.list_physical_devices('GPU')\n",
    "print(\"Num GPUs Available:\", len(gpus))\n",
    "\n",
    "if gpus:\n",
    "    print(\"GPU(s) detected:\")\n",
    "    for gpu in gpus:\n",
    "        print(\"  -\", gpu.name)\n",
    "    # Optional: Set memory growth to prevent TensorFlow from allocating all memory\n",
    "    for gpu in gpus:\n",
    "        tf.config.experimental.set_memory_growth(gpu, True)\n",
    "else:\n",
    "    print(\"No GPU detected. Using CPU.\")\n"
   ]
  }
 ],
 "metadata": {
  "kernelspec": {
   "display_name": "Python 3",
   "language": "python",
   "name": "python3"
  },
  "language_info": {
   "codemirror_mode": {
    "name": "ipython",
    "version": 3
   },
   "file_extension": ".py",
   "mimetype": "text/x-python",
   "name": "python",
   "nbconvert_exporter": "python",
   "pygments_lexer": "ipython3",
   "version": "3.12.0"
  }
 },
 "nbformat": 4,
 "nbformat_minor": 5
}
